{
  "nbformat": 4,
  "nbformat_minor": 0,
  "metadata": {
    "colab": {
      "provenance": [],
      "authorship_tag": "ABX9TyPzitBlNtJVLtCYaJxTHyyz",
      "include_colab_link": true
    },
    "kernelspec": {
      "name": "python3",
      "display_name": "Python 3"
    },
    "language_info": {
      "name": "python"
    }
  },
  "cells": [
    {
      "cell_type": "markdown",
      "metadata": {
        "id": "view-in-github",
        "colab_type": "text"
      },
      "source": [
        "<a href=\"https://colab.research.google.com/github/Andres-Nicolas/CIP/blob/main/clase2_cip.ipynb\" target=\"_parent\"><img src=\"https://colab.research.google.com/assets/colab-badge.svg\" alt=\"Open In Colab\"/></a>"
      ]
    },
    {
      "cell_type": "code",
      "source": [
        "cadena = input(\"Ingrese un texto \")\n",
        "cadena_al_reves = cadena[::-1]\n",
        "print(cadena_al_reves)"
      ],
      "metadata": {
        "id": "rYjAuX5hI5TD"
      },
      "execution_count": null,
      "outputs": []
    },
    {
      "cell_type": "code",
      "source": [
        "edad = int(input(\"que edad tienes?\"))\n",
        "\n",
        "if edad>=18:\n",
        "  print(\"Puedes entrar a capa\")\n",
        "elif edad==17:\n",
        "  print(\"Vuelve cuando seas mayor\")\n",
        "else:\n",
        "  print(\"no tienes la edad\")"
      ],
      "metadata": {
        "colab": {
          "base_uri": "https://localhost:8080/"
        },
        "id": "3YNE5gyDLcoF",
        "outputId": "6f3c1709-c727-4319-ab3f-d84fbb98c6d5"
      },
      "execution_count": null,
      "outputs": [
        {
          "output_type": "stream",
          "name": "stdout",
          "text": [
            "que edad tienes?17\n",
            "Vuelve cuando seas mayor\n"
          ]
        }
      ]
    },
    {
      "cell_type": "code",
      "source": [
        "for i in range(1, 11):\n",
        "    print(f\"Tabla del {i}:\")\n",
        "    for j in range(1, 11):\n",
        "        print(f\"{i} x {j} = {i * j}\")\n",
        "    print(\"-\" * 20)"
      ],
      "metadata": {
        "id": "e-tOlxMzLr2V"
      },
      "execution_count": null,
      "outputs": []
    },
    {
      "cell_type": "code",
      "source": [
        "notas = []\n",
        "for i in range(1, 4):\n",
        "    while True:\n",
        "        try:\n",
        "            nota = float(input(f\"Ingrese la nota {i} (0.0 - 5.0): \"))\n",
        "            if 0.0 <= nota <= 5.0:\n",
        "                notas.append(nota)\n",
        "                break\n",
        "            else:\n",
        "                print(\"La nota debe estar entre 0.0 y 5.0. Intente nuevamente.\")\n",
        "        except ValueError:\n",
        "            print(\"Entrada inválida. Por favor, ingrese un número.\")\n",
        "\n",
        "promedio = round(sum(notas) / len(notas), 1)\n",
        "\n",
        "print(\"\\nLas notas ingresadas son:\")\n",
        "for i, nota in enumerate(notas, start=1):\n",
        "    print(f\"Nota {i}: {nota}\")\n",
        "\n",
        "print(f\"El promedio es: {promedio:.1f}\")\n",
        "\n",
        "if promedio >= 3.5:\n",
        "    print(\"pasaste.\")\n",
        "else:\n",
        "    print(\"mejor suerte para la proxima .\")"
      ],
      "metadata": {
        "colab": {
          "base_uri": "https://localhost:8080/"
        },
        "id": "HG-0FPSlPwZK",
        "outputId": "d191cb75-ef42-49ed-e447-f5d7efd086fc"
      },
      "execution_count": null,
      "outputs": [
        {
          "output_type": "stream",
          "name": "stdout",
          "text": [
            "Ingrese la nota 1 (0.0 - 5.0): 3.5\n",
            "Ingrese la nota 2 (0.0 - 5.0): 3.5\n",
            "Ingrese la nota 3 (0.0 - 5.0): 3.5\n",
            "\n",
            "Las notas ingresadas son:\n",
            "Nota 1: 3.5\n",
            "Nota 2: 3.5\n",
            "Nota 3: 3.5\n",
            "El promedio es: 3.5\n",
            "pasaste.\n"
          ]
        }
      ]
    }
  ]
}