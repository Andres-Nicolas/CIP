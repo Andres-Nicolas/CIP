{
  "nbformat": 4,
  "nbformat_minor": 0,
  "metadata": {
    "colab": {
      "provenance": [],
      "authorship_tag": "ABX9TyOurt7ArwNq4+J7vnoGgQ/A",
      "include_colab_link": true
    },
    "kernelspec": {
      "name": "python3",
      "display_name": "Python 3"
    },
    "language_info": {
      "name": "python"
    }
  },
  "cells": [
    {
      "cell_type": "markdown",
      "metadata": {
        "id": "view-in-github",
        "colab_type": "text"
      },
      "source": [
        "<a href=\"https://colab.research.google.com/github/Andres-Nicolas/CIP/blob/main/clase2_cip.ipynb\" target=\"_parent\"><img src=\"https://colab.research.google.com/assets/colab-badge.svg\" alt=\"Open In Colab\"/></a>"
      ]
    },
    {
      "cell_type": "markdown",
      "source": [
        "#**Ejercicio 1**"
      ],
      "metadata": {
        "id": "iKWLubdHXp3K"
      }
    },
    {
      "cell_type": "code",
      "execution_count": 16,
      "metadata": {
        "colab": {
          "base_uri": "https://localhost:8080/"
        },
        "id": "5WxZ4dQ345yr",
        "outputId": "2f3794f2-79a5-4765-f505-0a2749cae92d"
      },
      "outputs": [
        {
          "output_type": "stream",
          "name": "stdout",
          "text": [
            "Introduce tu nombre: Nico\n",
            "Introduce tu edad: 25\n",
            "La persona pertenece al Grupo 2.\n"
          ]
        },
        {
          "output_type": "execute_result",
          "data": {
            "text/plain": [
              "1"
            ]
          },
          "metadata": {},
          "execution_count": 16
        }
      ],
      "source": [
        "class Persona:\n",
        "    def __init__(self, nombre, edad):\n",
        "        self.nombre = nombre\n",
        "        self.edad = edad\n",
        "\n",
        "    def clasificar(self):\n",
        "        vocales = 'aeiou'\n",
        "\n",
        "        primera_letra = self.nombre[0]\n",
        "\n",
        "        return \"Grupo 1\" if self.edad < 18 and primera_letra in vocales else \\\n",
        "               \"Grupo 2\" if self.edad >= 18 and primera_letra.lower() not in vocales else \\\n",
        "               \"Grupo 3\"\n",
        "\n",
        "    @staticmethod\n",
        "    def solicitar_nombre():\n",
        "        while True:\n",
        "            nombre = input(\"Introduce tu nombre: \")\n",
        "            if nombre.isalpha() and len(nombre) > 0:\n",
        "                return nombre\n",
        "            else:\n",
        "                print(\"Por favor, ingresa un nombre válido (solo letras).\")\n",
        "\n",
        "    @staticmethod\n",
        "    def solicitar_edad():\n",
        "        while True:\n",
        "            try:\n",
        "                edad = int(input(\"Introduce tu edad: \"))\n",
        "                if edad >= 0:\n",
        "                    return edad\n",
        "                else:\n",
        "                    print(\"Por favor, ingresa una edad válida (número entero positivo).\")\n",
        "            except ValueError:\n",
        "                print(\"Por favor, ingresa una edad válida (número entero).\")\n",
        "\n",
        "nombre = Persona.solicitar_nombre()\n",
        "edad = Persona.solicitar_edad()\n",
        "\n",
        "persona = Persona(nombre, edad)\n",
        "\n",
        "grupo = persona.clasificar()\n",
        "print(f\"La persona pertenece al {grupo}.\")\n"
      ]
    },
    {
      "cell_type": "markdown",
      "source": [
        "# **Ejercicio 2**"
      ],
      "metadata": {
        "id": "BbqsefnSX0hr"
      }
    },
    {
      "cell_type": "code",
      "source": [
        "pais=input(\"De que pais eres \")\n",
        "nombre=input(\"Ingrese nombre \")\n",
        "lonnom=len(nombre)\n",
        "\n"
      ],
      "metadata": {
        "colab": {
          "base_uri": "https://localhost:8080/"
        },
        "id": "IOHjUh1e_6u0",
        "outputId": "b8437788-6dc0-4427-f9e8-c267d74d376b"
      },
      "execution_count": null,
      "outputs": [
        {
          "output_type": "stream",
          "name": "stdout",
          "text": [
            "De que pais eres colombia\n",
            "Ingrese nombre aa\n",
            "2\n"
          ]
        }
      ]
    },
    {
      "cell_type": "code",
      "source": [
        "def solicitar_nombre():\n",
        "    while True:\n",
        "        nombre = input(\"Introduce tu nombre: \")\n",
        "        if nombre.isalpha():\n",
        "            return nombre\n",
        "        else:\n",
        "            print(\"Por favor, ingresa un nombre válido (solo letras).\")\n",
        "\n",
        "def solicitar_pais():\n",
        "    while True:\n",
        "        pais = input(\"Introduce tu país de origen: \")\n",
        "        if pais.isalpha():\n",
        "            return pais\n",
        "        else:\n",
        "            print(\"Por favor, ingresa un país válido (solo letras).\")\n",
        "\n",
        "nombre = solicitar_nombre()\n",
        "pais = solicitar_pais()\n",
        "\n",
        "\n",
        "if pais.lower() == \"colombia\" and len(nombre) < 5:\n",
        "    grupo = \"Grupo de Colombia A\"\n",
        "elif pais.lower() == \"mexico\" and len(nombre) >= 5:\n",
        "    grupo = \"Grupo de Mexico B\"\n",
        "else:\n",
        "    grupo = \"Otros paises\"\n",
        "\n",
        "\n",
        "print(f\"La persona pertenece al {grupo}.\")\n"
      ],
      "metadata": {
        "id": "V19T7blVADnh",
        "colab": {
          "base_uri": "https://localhost:8080/"
        },
        "outputId": "f8415f30-05f3-4000-a942-74ad56d99cb1"
      },
      "execution_count": 24,
      "outputs": [
        {
          "output_type": "stream",
          "name": "stdout",
          "text": [
            "Introduce tu nombre: natalipa\n",
            "Introduce tu país de origen: mexico\n",
            "La persona pertenece al Grupo de Mexico B.\n"
          ]
        }
      ]
    },
    {
      "cell_type": "markdown",
      "source": [
        "# **Ejercicio 3**"
      ],
      "metadata": {
        "id": "k2h8yyBAX7_Q"
      }
    },
    {
      "cell_type": "code",
      "source": [
        "def calcular_bono(puntuacion):\n",
        "    if puntuacion == 1.0:\n",
        "        bono = 3000000\n",
        "        nivel = \"Bajo\"\n",
        "    elif puntuacion == 1.5:\n",
        "        bono = 4500000\n",
        "        nivel = \"Medio\"\n",
        "    elif puntuacion == 2.0:\n",
        "        bono = 6000000\n",
        "        nivel = \"alto\"\n",
        "    elif puntuacion == 2.5:\n",
        "        bono = 7500000\n",
        "        nivel = \"Excelente\"\n",
        "    else:\n",
        "        bono = 0\n",
        "        nivel = \"Inválido\"\n",
        "\n",
        "    return bono, nivel\n",
        "\n",
        "while True:\n",
        "    try:\n",
        "        puntuacion = float(input(\"Introduce la puntuación del proyecto (1.0, 1.5, 2.0, 2.5): \"))\n",
        "        if puntuacion in [1.0, 1.5, 2.0, 2.5]:\n",
        "            break\n",
        "        else:\n",
        "            print(\"Puntuación no válida. Debe ser 1.0, 1.5, 2.0 o 2.5.\")\n",
        "    except ValueError:\n",
        "        print(\"Por favor, ingresa un número válido.\")\n",
        "\n",
        "bono, nivel = calcular_bono(puntuacion)\n",
        "\n",
        "if nivel != \"Inválido\":\n",
        "    print(f\"El nivel de rendimiento es: {nivel}\")\n",
        "    print(f\"El bono que recibe el empleado es: ${bono:,}\")\n",
        "else:\n",
        "    print(\"Puntuación no válida ingresada.\")\n"
      ],
      "metadata": {
        "colab": {
          "base_uri": "https://localhost:8080/"
        },
        "id": "7nlvgXbwLu09",
        "outputId": "70667beb-17e0-4be7-f855-26f7b311a4f3"
      },
      "execution_count": 25,
      "outputs": [
        {
          "output_type": "stream",
          "name": "stdout",
          "text": [
            "Introduce la puntuación del proyecto (1.0, 1.5, 2.0, 2.5): 2.05\n",
            "Puntuación no válida. Debe ser 1.0, 1.5, 2.0 o 2.5.\n",
            "Introduce la puntuación del proyecto (1.0, 1.5, 2.0, 2.5): 2.0\n",
            "El nivel de rendimiento es: alto\n",
            "El bono que recibe el empleado es: $6,000,000\n"
          ]
        }
      ]
    },
    {
      "cell_type": "markdown",
      "source": [
        "## **Sistema de Gestion de Productos**"
      ],
      "metadata": {
        "id": "frnxvox3XXK8"
      }
    },
    {
      "cell_type": "code",
      "source": [
        "inventario = {}\n",
        "\n",
        "def agregar():\n",
        "    \"\"\"Agregar un nuevo producto al inventario.\"\"\"\n",
        "    nombre = input(\"Introduce el nombre del producto: \").strip()\n",
        "    if nombre in inventario:\n",
        "        print(\"El producto ya existe. Usa la opción de actualizar cantidad.\")\n",
        "    else:\n",
        "        while True:\n",
        "            try:\n",
        "                cantidad = int(input(f\"Introduce la cantidad inicial para '{nombre}': \"))\n",
        "                if cantidad >= 0:\n",
        "                    inventario[nombre] = cantidad\n",
        "                    print(f\"Producto '{nombre}' agregado con éxito.\")\n",
        "                    break\n",
        "                else:\n",
        "                    print(\"La cantidad debe ser un número positivo.\")\n",
        "            except ValueError:\n",
        "                print(\"Por favor, introduce un número válido.\")\n",
        "\n",
        "def eliminar():\n",
        "    \"\"\"Eliminar un producto del inventario.\"\"\"\n",
        "    nombre = input(\"Introduce el nombre del producto a eliminar: \").strip()\n",
        "    if nombre in inventario:\n",
        "        del inventario[nombre]\n",
        "        print(f\"Producto '{nombre}' eliminado del inventario.\")\n",
        "    else:\n",
        "        print(\"El producto no se encuentra en el inventario.\")\n",
        "\n",
        "def actualizar():\n",
        "    \"\"\"Actualizar la cantidad de un producto existente.\"\"\"\n",
        "    nombre = input(\"Introduce el nombre del producto a actualizar: \").strip()\n",
        "    if nombre in inventario:\n",
        "        while True:\n",
        "            try:\n",
        "                nueva= int(input(f\"Introduce la nueva cantidad para '{nombre}': \"))\n",
        "                if nueva >= 0:\n",
        "                    inventario[nombre] = nueva\n",
        "                    print(f\"Cantidad de '{nombre}' actualizada a {nueva}.\")\n",
        "                    break\n",
        "                else:\n",
        "                    print(\"La cantidad debe ser un número positivo.\")\n",
        "            except ValueError:\n",
        "                print(\"introduce un número válido.\")\n",
        "    else:\n",
        "        print(\"El producto no se encuentra en el inventario.\")\n",
        "\n",
        "def productos_por_agotarse():\n",
        "    \"\"\"Mostrar productos con cantidad inferior a 5.\"\"\"\n",
        "    print(\"\\nProductos por agotarse: \")\n",
        "    productos_agotarse = {nombre: cantidad for nombre, cantidad in inventario.items() if cantidad < 5}\n",
        "    if productos_agotarse:\n",
        "        for nombre, cantidad in productos_agotarse.items():\n",
        "            print(f\"- {nombre}: {cantidad}\")\n",
        "    else:\n",
        "        print(\"No hay productos por agotarse.\")\n",
        "\n",
        "def todos_los_productos():\n",
        "    \"\"\"Mostrar todos los productos del inventario.\"\"\"\n",
        "    print(\"\\nInventario:\")\n",
        "    if inventario:\n",
        "        for nombre, cantidad in inventario.items():\n",
        "            print(f\"- {nombre}: {cantidad}\")\n",
        "    else:\n",
        "        print(\"El inventario está vacío.\")\n",
        "\n",
        "def menu():\n",
        "    \"\"\"Mostrar el menú de opciones.\"\"\"\n",
        "    print(\"\\nSistema de Gestión de Productos\")\n",
        "    print(\"1. Agregar producto\")\n",
        "    print(\"2. Eliminar producto\")\n",
        "    print(\"3. Actualizar cantidad\")\n",
        "    print(\"4. Mostrar productos por agotarse\")\n",
        "    print(\"5. Mostrar todos los productos\")\n",
        "    print(\"6. Salir\")\n",
        "\n",
        "# Bucle principal del programa\n",
        "while True:\n",
        "    mostrar_menu()\n",
        "    opcion = input(\"Elige una opción 1-6 : \").strip()\n",
        "\n",
        "    if opcion == \"1\":\n",
        "        agregar()\n",
        "    elif opcion == \"2\":\n",
        "        eliminar()\n",
        "    elif opcion == \"3\":\n",
        "        actualizar()\n",
        "    elif opcion == \"4\":\n",
        "        productos_por_agotarse()\n",
        "    elif opcion == \"5\":\n",
        "        todos_los_productos()\n",
        "    elif opcion == \"6\":\n",
        "        print(\"Saliendo\")\n",
        "        break\n",
        "    else:\n",
        "        print(\"Opcion incorrecta\")\n"
      ],
      "metadata": {
        "colab": {
          "base_uri": "https://localhost:8080/"
        },
        "id": "tFYBtfkzXjSz",
        "outputId": "5ba58478-712a-4486-beee-0987db17820e"
      },
      "execution_count": null,
      "outputs": [
        {
          "output_type": "stream",
          "name": "stdout",
          "text": [
            "\n",
            "Sistema de Gestión de Productos\n",
            "1. Agregar producto\n",
            "2. Eliminar producto\n",
            "3. Actualizar cantidad\n",
            "4. Mostrar productos por agotarse\n",
            "5. Mostrar todos los productos\n",
            "6. Salir\n",
            "Elige una opción 1-6 : 5\n",
            "\n",
            "Inventario completo:\n",
            "El inventario está vacío.\n",
            "\n",
            "Sistema de Gestión de Productos\n",
            "1. Agregar producto\n",
            "2. Eliminar producto\n",
            "3. Actualizar cantidad\n",
            "4. Mostrar productos por agotarse\n",
            "5. Mostrar todos los productos\n",
            "6. Salir\n",
            "Elige una opción 1-6 : 1\n",
            "Introduce el nombre del producto: jabon\n",
            "Introduce la cantidad inicial para 'jabon': 3\n",
            "Producto 'jabon' agregado con éxito.\n",
            "\n",
            "Sistema de Gestión de Productos\n",
            "1. Agregar producto\n",
            "2. Eliminar producto\n",
            "3. Actualizar cantidad\n",
            "4. Mostrar productos por agotarse\n",
            "5. Mostrar todos los productos\n",
            "6. Salir\n",
            "Elige una opción 1-6 : 3\n",
            "Introduce el nombre del producto a actualizar: jabon\n",
            "Introduce la nueva cantidad para 'jabon': 2\n",
            "Cantidad de 'jabon' actualizada a 2.\n",
            "\n",
            "Sistema de Gestión de Productos\n",
            "1. Agregar producto\n",
            "2. Eliminar producto\n",
            "3. Actualizar cantidad\n",
            "4. Mostrar productos por agotarse\n",
            "5. Mostrar todos los productos\n",
            "6. Salir\n",
            "Elige una opción 1-6 : 4\n",
            "\n",
            "Productos por agotarse (cantidad < 5):\n",
            "- jabon: 2\n",
            "\n",
            "Sistema de Gestión de Productos\n",
            "1. Agregar producto\n",
            "2. Eliminar producto\n",
            "3. Actualizar cantidad\n",
            "4. Mostrar productos por agotarse\n",
            "5. Mostrar todos los productos\n",
            "6. Salir\n",
            "Elige una opción 1-6 : 5\n",
            "\n",
            "Inventario completo:\n",
            "- jabon: 2\n",
            "\n",
            "Sistema de Gestión de Productos\n",
            "1. Agregar producto\n",
            "2. Eliminar producto\n",
            "3. Actualizar cantidad\n",
            "4. Mostrar productos por agotarse\n",
            "5. Mostrar todos los productos\n",
            "6. Salir\n"
          ]
        }
      ]
    }
  ]
}