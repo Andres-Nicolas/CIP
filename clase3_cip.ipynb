{
  "nbformat": 4,
  "nbformat_minor": 0,
  "metadata": {
    "colab": {
      "provenance": [],
      "authorship_tag": "ABX9TyNBw4z2AOBRQoz8qCqYBvcv",
      "include_colab_link": true
    },
    "kernelspec": {
      "name": "python3",
      "display_name": "Python 3"
    },
    "language_info": {
      "name": "python"
    }
  },
  "cells": [
    {
      "cell_type": "markdown",
      "metadata": {
        "id": "view-in-github",
        "colab_type": "text"
      },
      "source": [
        "<a href=\"https://colab.research.google.com/github/Andres-Nicolas/CIP/blob/main/clase3_cip.ipynb\" target=\"_parent\"><img src=\"https://colab.research.google.com/assets/colab-badge.svg\" alt=\"Open In Colab\"/></a>"
      ]
    },
    {
      "cell_type": "code",
      "execution_count": null,
      "metadata": {
        "colab": {
          "base_uri": "https://localhost:8080/",
          "height": 105
        },
        "id": "YDDRsQTQA4yC",
        "outputId": "ce746d08-8298-47bd-a21c-929a9fc2595b"
      },
      "outputs": [
        {
          "output_type": "stream",
          "name": "stdout",
          "text": [
            "[[ 1  2  3  4]\n",
            " [ 5  6  7  8]\n",
            " [ 9 10 11 12]]\n"
          ]
        },
        {
          "output_type": "execute_result",
          "data": {
            "text/plain": [
              "'\\narray_basico*5\\nprint(array_basico.sum())\\nprint(array_basico.max())\\nprint(array_basico.min())\\n\\nprint(array_basico[2:])\\nprint(array_basico[:2])\\n'"
            ],
            "application/vnd.google.colaboratory.intrinsic+json": {
              "type": "string"
            }
          },
          "metadata": {},
          "execution_count": 18
        }
      ],
      "source": [
        "import numpy as np\n",
        "\n",
        "array_basico  = np.array([1,2,3,4,5])\n",
        "\n",
        "array_basico*5\n",
        "print(array_basico.sum())\n",
        "print(array_basico.max())\n",
        "print(array_basico.min())\n",
        "\n",
        "print(array_basico[2:])\n",
        "print(array_basico[:2])\n"
      ]
    },
    {
      "cell_type": "code",
      "source": [
        "multidimensional=np.array([[1,2,3,4],[5,6,7,8],[9,10,11,12]])\n",
        "multidimensional[:2,1:]\n",
        "#print(multidimensional.sum())\n",
        "#print(multidimensional.max())\n",
        "#print(multidimensional.min())"
      ],
      "metadata": {
        "colab": {
          "base_uri": "https://localhost:8080/"
        },
        "id": "lV26MKK6D5ga",
        "outputId": "1fee1dfe-27a8-48af-eea6-9ca0e42e6169"
      },
      "execution_count": null,
      "outputs": [
        {
          "output_type": "stream",
          "name": "stdout",
          "text": [
            "78\n",
            "12\n",
            "1\n"
          ]
        }
      ]
    },
    {
      "cell_type": "code",
      "source": [
        "import pandas as pd\n",
        "fuchibol_dicc={\n",
        "    \"jugador\":[\"lionel messi\",\"cr7\"],\n",
        "    \"año\":[\"2017\",\"2019\"],\n",
        "    \"goles\":[\"37\",\"25\"]\n",
        "}\n",
        "data=pd.DataFrame(fuchibol_dicc)\n",
        "print(data)"
      ],
      "metadata": {
        "colab": {
          "base_uri": "https://localhost:8080/"
        },
        "id": "6rUkFHELTnqs",
        "outputId": "c0fe4669-50b7-4847-a6b5-95fecfc78471"
      },
      "execution_count": null,
      "outputs": [
        {
          "output_type": "stream",
          "name": "stdout",
          "text": [
            "        jugador   año goles\n",
            "0  lionel messi  2017    37\n",
            "1           cr7  2019    25\n"
          ]
        }
      ]
    },
    {
      "cell_type": "code",
      "source": [
        "from google.colab import drive\n",
        "drive.mount('/content/drive')\n",
        "import pandas as pd\n",
        "import plotly.express as px\n",
        "\n",
        "path_file=\"/content/drive/MyDrive/Colab Notebooks/test.csv\"\n",
        "df=pd.read_csv(path_file,sep=\",\",header=0)\n",
        "print(df.head())\n",
        "\n",
        "df.columns\n",
        "df.columns=['id;name;age;gender']\n",
        "df.info()\n"
      ],
      "metadata": {
        "colab": {
          "base_uri": "https://localhost:8080/"
        },
        "id": "IV_moSX9ZNFX",
        "outputId": "84a99fba-e13e-467b-90af-58d733ad7a81"
      },
      "execution_count": 3,
      "outputs": [
        {
          "output_type": "stream",
          "name": "stdout",
          "text": [
            "Drive already mounted at /content/drive; to attempt to forcibly remount, call drive.mount(\"/content/drive\", force_remount=True).\n",
            "  codigo;nombre;edad;genero\n",
            "0        1;Adrian;20;Hombre\n",
            "1        2;Julian;23;Hombre\n",
            "2        3;Shirley;19;Mujer\n",
            "3     4;Sebastian;18;Hombre\n",
            "4    5;Geison;35;Indefinido\n",
            "<class 'pandas.core.frame.DataFrame'>\n",
            "RangeIndex: 5 entries, 0 to 4\n",
            "Data columns (total 1 columns):\n",
            " #   Column              Non-Null Count  Dtype \n",
            "---  ------              --------------  ----- \n",
            " 0   id;name;age;gender  5 non-null      object\n",
            "dtypes: object(1)\n",
            "memory usage: 168.0+ bytes\n"
          ]
        }
      ]
    },
    {
      "cell_type": "code",
      "source": [
        "import pandas as pd\n",
        "data= {\n",
        "    'id': range(1, 21),\n",
        "    'name': [\n",
        "        'Alice', 'Bob', 'Charlie', 'David', 'Eve', 'Frank', 'Grace', 'Hank', 'Ivy', 'Jack',\n",
        "        'Kathy', 'Leo', 'Mona', 'Nate', 'Olivia', 'Paul', 'Quinn', 'Rose', 'Steve', 'Tina'\n",
        "    ],\n",
        "    'age': [25, 30, 35, 40, 28, 32, 27, 45, 29, 34, 26, 31, 36, 33, 24, 39, 42, 38, 37, 41],\n",
        "    'gender': [\n",
        "        'F', 'M', 'M', 'M', 'F', 'M', 'F', 'M', 'F', 'M',\n",
        "        'F', 'M', 'F', 'M', 'F', 'M', 'M', 'F', 'M', 'F'\n",
        "    ]\n",
        "}\n",
        "\n",
        "df = pd.DataFrame(data)\n",
        "\n",
        "file_path = '/content/drive/MyDrive/Colab Notebooks/prueba.csv'\n",
        "df.to_csv(file_path, index=False, sep=';')\n",
        "\n",
        "file_path\n"
      ],
      "metadata": {
        "colab": {
          "base_uri": "https://localhost:8080/",
          "height": 35
        },
        "id": "L9aR1fHpkxSk",
        "outputId": "054cfcc2-a4fb-4f42-ea3f-2436539f221d"
      },
      "execution_count": 14,
      "outputs": [
        {
          "output_type": "execute_result",
          "data": {
            "text/plain": [
              "'/content/drive/MyDrive/Colab Notebooks/prueba.csv'"
            ],
            "application/vnd.google.colaboratory.intrinsic+json": {
              "type": "string"
            }
          },
          "metadata": {},
          "execution_count": 14
        }
      ]
    },
    {
      "cell_type": "code",
      "source": [
        "from google.colab import drive\n",
        "drive.mount('/content/drive')\n",
        "import pandas as pd\n",
        "\n",
        "path_file = \"/content/drive/MyDrive/Colab Notebooks/prueba.csv\"\n",
        "\n",
        "df = pd.read_csv(path_file, sep=\",\", header=0)\n",
        "print(\"Columnas disponibles en el archivo:\")\n",
        "print(df.columns)\n",
        "\n",
        "unicos = df['gender'].unique()\n",
        "print(\"\\nValores únicos en la columna 'gender':\")\n",
        "print(unicos)\n",
        "\n",
        "conteo_unicos = df['gender'].value_counts()\n",
        "print(\"\\nValores totales en la columna 'gender':\")\n",
        "print(conteo_unicos)\n",
        "\n",
        "total_unicos=df['gender'].nunique()\n",
        "print(\"\\nTotal de valores únicos en la columna 'gender':\")\n",
        "print(total_unicos)\n",
        "\n",
        "filas_unicas=df['gender'].drop_duplicates()\n",
        "print(\"\\nFilas únicas en la columna 'gender':\")\n",
        "print(filas_unicas)\n",
        "\n",
        "estadistico=df['gender'].describe()\n",
        "print(\"\\nEstadísticas descriptivas de la columna 'gender':\")\n",
        "print(estadistico)\n",
        "\n",
        "moda=df['gender'].mode()\n",
        "print(\"\\nModa de la columna 'gender':\")\n",
        "print(moda)\n",
        "\n",
        "filas=df[df['gender'].isin(['F'])]\n",
        "print(\"\\nFilas con el valor 'F' en la columna 'gender':\")\n",
        "print(filas)\n",
        "\n",
        "duplicados=df.duplicated(subset=['gender'])\n",
        "print(\"\\nFilas duplicadas en la columna 'gender':\")\n",
        "print(duplicados)\n",
        "\n"
      ],
      "metadata": {
        "colab": {
          "base_uri": "https://localhost:8080/"
        },
        "id": "ndDTF4COpzmx",
        "outputId": "b6299166-7daf-4add-8afe-0cf1309ebda2"
      },
      "execution_count": 7,
      "outputs": [
        {
          "output_type": "stream",
          "name": "stdout",
          "text": [
            "Drive already mounted at /content/drive; to attempt to forcibly remount, call drive.mount(\"/content/drive\", force_remount=True).\n",
            "Columnas disponibles en el archivo:\n",
            "Index(['id', 'name', 'age', 'gender'], dtype='object')\n",
            "\n",
            "Valores únicos en la columna 'gender':\n",
            "['F' 'M']\n",
            "\n",
            "Valores totales en la columna 'gender':\n",
            "gender\n",
            "M    11\n",
            "F     9\n",
            "Name: count, dtype: int64\n",
            "\n",
            "Total de valores únicos en la columna 'gender':\n",
            "2\n",
            "\n",
            "Filas únicas en la columna 'gender':\n",
            "0    F\n",
            "1    M\n",
            "Name: gender, dtype: object\n",
            "\n",
            "Estadísticas descriptivas de la columna 'gender':\n",
            "count     20\n",
            "unique     2\n",
            "top        M\n",
            "freq      11\n",
            "Name: gender, dtype: object\n",
            "\n",
            "Moda de la columna 'gender':\n",
            "0    M\n",
            "Name: gender, dtype: object\n",
            "\n",
            "Filas con el valor 'F' en la columna 'gender':\n",
            "    id    name  age gender\n",
            "0    1   Alice   25      F\n",
            "4    5     Eve   28      F\n",
            "6    7   Grace   27      F\n",
            "8    9     Ivy   29      F\n",
            "10  11   Kathy   26      F\n",
            "12  13    Mona   36      F\n",
            "14  15  Olivia   24      F\n",
            "17  18    Rose   38      F\n",
            "19  20    Tina   41      F\n",
            "\n",
            "Filas duplicadas en la columna 'gender':\n",
            "0     False\n",
            "1     False\n",
            "2      True\n",
            "3      True\n",
            "4      True\n",
            "5      True\n",
            "6      True\n",
            "7      True\n",
            "8      True\n",
            "9      True\n",
            "10     True\n",
            "11     True\n",
            "12     True\n",
            "13     True\n",
            "14     True\n",
            "15     True\n",
            "16     True\n",
            "17     True\n",
            "18     True\n",
            "19     True\n",
            "dtype: bool\n"
          ]
        }
      ]
    },
    {
      "cell_type": "code",
      "source": [],
      "metadata": {
        "id": "P5Ztu0sguqFN"
      },
      "execution_count": null,
      "outputs": []
    }
  ]
}